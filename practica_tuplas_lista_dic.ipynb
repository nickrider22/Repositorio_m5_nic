{
 "cells": [
  {
   "cell_type": "code",
   "execution_count": 1,
   "metadata": {},
   "outputs": [],
   "source": [
    "mi_lista=(\"R\",\"O\",\"M\",\"A\")   #me confundi y utilice parentesis."
   ]
  },
  {
   "cell_type": "code",
   "execution_count": 2,
   "metadata": {},
   "outputs": [
    {
     "data": {
      "text/plain": [
       "tuple"
      ]
     },
     "execution_count": 2,
     "metadata": {},
     "output_type": "execute_result"
    }
   ],
   "source": [
    "type(mi_lista)    #Lo confirme."
   ]
  },
  {
   "cell_type": "code",
   "execution_count": 3,
   "metadata": {},
   "outputs": [],
   "source": [
    "mi_tupla=tuple(mi_lista)  #Le adjudique una varible a mi tupla creada por error."
   ]
  },
  {
   "cell_type": "code",
   "execution_count": 4,
   "metadata": {},
   "outputs": [
    {
     "name": "stdout",
     "output_type": "stream",
     "text": [
      "('R', 'O', 'M', 'A')\n"
     ]
    }
   ],
   "source": [
    "print(mi_tupla)   #Lo verifico."
   ]
  },
  {
   "cell_type": "code",
   "execution_count": 5,
   "metadata": {},
   "outputs": [
    {
     "name": "stdout",
     "output_type": "stream",
     "text": [
      "('R', 'O', 'M', 'A')\n"
     ]
    }
   ],
   "source": [
    "print(mi_lista)   #Verifico que no haya modificado nada."
   ]
  },
  {
   "cell_type": "code",
   "execution_count": 6,
   "metadata": {},
   "outputs": [],
   "source": [
    "mi_lista1=list(mi_lista) #Le asigno una nueva variable a la correccion de mi error en el comienzo."
   ]
  },
  {
   "cell_type": "code",
   "execution_count": 7,
   "metadata": {},
   "outputs": [
    {
     "name": "stdout",
     "output_type": "stream",
     "text": [
      "['R', 'O', 'M', 'A']\n"
     ]
    }
   ],
   "source": [
    "print(mi_lista1) #verifico"
   ]
  },
  {
   "cell_type": "code",
   "execution_count": 8,
   "metadata": {},
   "outputs": [],
   "source": [
    "primero=mi_lista1[0]\n",
    "segundo=mi_lista1[1]\n",
    "tercero=mi_lista1[2]\n",
    "cuarto=mi_lista1[3]             #Asigno variables a mis indices."
   ]
  },
  {
   "cell_type": "code",
   "execution_count": 9,
   "metadata": {},
   "outputs": [
    {
     "name": "stdout",
     "output_type": "stream",
     "text": [
      "A\n",
      "M\n",
      "O\n",
      "R\n"
     ]
    }
   ],
   "source": [
    "print(cuarto)\n",
    "print(tercero)\n",
    "print(segundo)\n",
    "print(primero)          #Compruebo mi codigo."
   ]
  },
  {
   "cell_type": "code",
   "execution_count": 10,
   "metadata": {},
   "outputs": [
    {
     "name": "stdout",
     "output_type": "stream",
     "text": [
      "A M O R\n"
     ]
    }
   ],
   "source": [
    "print(cuarto,tercero,segundo,primero)      #Pruebo otra forma de imprimir mi codigo."
   ]
  },
  {
   "cell_type": "code",
   "execution_count": 11,
   "metadata": {},
   "outputs": [
    {
     "name": "stdout",
     "output_type": "stream",
     "text": [
      "R O M A\n"
     ]
    }
   ],
   "source": [
    "print(primero,segundo,tercero,cuarto)   #Pruebo imprimir el codigo al reves."
   ]
  },
  {
   "cell_type": "code",
   "execution_count": 12,
   "metadata": {},
   "outputs": [],
   "source": [
    "mi_lista1.sort()   #Lo invierto utilizando metodos y modificando la actual."
   ]
  },
  {
   "cell_type": "code",
   "execution_count": 13,
   "metadata": {},
   "outputs": [
    {
     "name": "stdout",
     "output_type": "stream",
     "text": [
      "['A', 'M', 'O', 'R']\n"
     ]
    }
   ],
   "source": [
    "print(mi_lista1)    #Verifico."
   ]
  },
  {
   "cell_type": "code",
   "execution_count": 14,
   "metadata": {},
   "outputs": [],
   "source": [
    "mi_diccionario={'clave 1' : (mi_lista1), 'clave 2' : (mi_lista)}    #Creo diccionario con mi lista y tupla."
   ]
  },
  {
   "cell_type": "code",
   "execution_count": 15,
   "metadata": {},
   "outputs": [
    {
     "name": "stdout",
     "output_type": "stream",
     "text": [
      "{'clave 1': ['A', 'M', 'O', 'R'], 'clave 2': ('R', 'O', 'M', 'A')}\n"
     ]
    }
   ],
   "source": [
    "print(mi_diccionario)"
   ]
  },
  {
   "cell_type": "code",
   "execution_count": 16,
   "metadata": {},
   "outputs": [],
   "source": [
    "del mi_diccionario['clave 2']                   #Elimino la tupla con la clave correspondiente."
   ]
  },
  {
   "cell_type": "code",
   "execution_count": 17,
   "metadata": {},
   "outputs": [
    {
     "name": "stdout",
     "output_type": "stream",
     "text": [
      "{'clave 1': ['A', 'M', 'O', 'R']}\n"
     ]
    }
   ],
   "source": [
    "print(mi_diccionario)                   #Verifico accion anterior."
   ]
  },
  {
   "cell_type": "code",
   "execution_count": 18,
   "metadata": {},
   "outputs": [],
   "source": [
    "mi_lista1.sort(reverse = True)              #Pruebo reordenar mi lista 1 y verificar si modifica el diccionario creado."
   ]
  },
  {
   "cell_type": "code",
   "execution_count": 19,
   "metadata": {},
   "outputs": [
    {
     "name": "stdout",
     "output_type": "stream",
     "text": [
      "{'clave 1': ['R', 'O', 'M', 'A']}\n"
     ]
    }
   ],
   "source": [
    "print(mi_diccionario)                       #Compruebo."
   ]
  },
  {
   "cell_type": "code",
   "execution_count": 20,
   "metadata": {},
   "outputs": [],
   "source": [
    "mi_lista1.append('Es igual a AMOR al reves')   #Pruebo agregar elementos a mi lista 1 a travez de metodos de lista."
   ]
  },
  {
   "cell_type": "code",
   "execution_count": 21,
   "metadata": {},
   "outputs": [
    {
     "name": "stdout",
     "output_type": "stream",
     "text": [
      "['R', 'O', 'M', 'A', 'Es igual a AMOR al reves']\n"
     ]
    }
   ],
   "source": [
    "print(mi_lista1)                    #Confirmo dicha accion."
   ]
  },
  {
   "cell_type": "code",
   "execution_count": 22,
   "metadata": {},
   "outputs": [
    {
     "name": "stdout",
     "output_type": "stream",
     "text": [
      "R\n",
      "O\n",
      "M\n",
      "Se encontro la letra A\n"
     ]
    }
   ],
   "source": [
    "for letra in mi_lista1:\n",
    "    if letra == \"A\":\n",
    "        print(\"Se encontro la letra A\")         #Utilizo ciclos operativos, condicionales y sentencia.\n",
    "        break\n",
    "    print(letra)"
   ]
  },
  {
   "cell_type": "code",
   "execution_count": 23,
   "metadata": {},
   "outputs": [
    {
     "name": "stdout",
     "output_type": "stream",
     "text": [
      "R\n",
      "O\n",
      "M\n",
      "Se encontro la letra A\n",
      "Es igual a AMOR al reves\n"
     ]
    }
   ],
   "source": [
    "for letra in mi_lista1:\n",
    "    if letra == \"A\":\n",
    "        print(\"Se encontro la letra A\")           #Pruebo otra sentencia.\n",
    "        continue\n",
    "    print(letra)"
   ]
  },
  {
   "cell_type": "code",
   "execution_count": 24,
   "metadata": {},
   "outputs": [
    {
     "data": {
      "text/plain": [
       "2"
      ]
     },
     "execution_count": 24,
     "metadata": {},
     "output_type": "execute_result"
    }
   ],
   "source": [
    "mi_lista1.index(\"M\")   #Quiero saber el indice de la letra M que contiene mi lista."
   ]
  },
  {
   "cell_type": "code",
   "execution_count": 25,
   "metadata": {},
   "outputs": [
    {
     "name": "stdout",
     "output_type": "stream",
     "text": [
      "['R', 'O', 'M', 'A', 'Es igual a AMOR al reves']\n"
     ]
    }
   ],
   "source": [
    "print(mi_lista1)"
   ]
  },
  {
   "cell_type": "code",
   "execution_count": 26,
   "metadata": {},
   "outputs": [
    {
     "name": "stdout",
     "output_type": "stream",
     "text": [
      "R\n",
      "O\n",
      "A\n",
      "Es igual a AMOR al reves\n"
     ]
    }
   ],
   "source": [
    "for letra in mi_lista1:              #Pruebo diferentes aplicaciones de bucle for.\n",
    "    if letra == \"M\":\n",
    "        continue                       #sentencia continue.\n",
    "    print(letra)"
   ]
  },
  {
   "cell_type": "code",
   "execution_count": 27,
   "metadata": {},
   "outputs": [
    {
     "name": "stdout",
     "output_type": "stream",
     "text": [
      "R\n",
      "O\n"
     ]
    }
   ],
   "source": [
    "for letra in mi_lista1:\n",
    "    if letra == \"M\":\n",
    "        break                        #Ahora con sentencia break\n",
    "    print(letra)"
   ]
  },
  {
   "cell_type": "code",
   "execution_count": 28,
   "metadata": {},
   "outputs": [
    {
     "name": "stdout",
     "output_type": "stream",
     "text": [
      "M\n"
     ]
    }
   ],
   "source": [
    "print(letra)         #Compruebo haber asignado la M a mi variable letra."
   ]
  },
  {
   "cell_type": "code",
   "execution_count": 29,
   "metadata": {},
   "outputs": [
    {
     "name": "stdout",
     "output_type": "stream",
     "text": [
      "['R', 'O', 'M', 'A', 'Es igual a AMOR al reves']\n"
     ]
    }
   ],
   "source": [
    "print(mi_lista1)            #Verifico no haber modificado mi_lista1."
   ]
  },
  {
   "cell_type": "code",
   "execution_count": 30,
   "metadata": {},
   "outputs": [
    {
     "name": "stdout",
     "output_type": "stream",
     "text": [
      "{'clave 1': ['R', 'O', 'M', 'A', 'Es igual a AMOR al reves']}\n"
     ]
    }
   ],
   "source": [
    "print(mi_diccionario)           #Ahora comprobe mi_diccionario. "
   ]
  },
  {
   "cell_type": "code",
   "execution_count": 31,
   "metadata": {},
   "outputs": [],
   "source": [
    "del mi_lista        #Elimino mi primer variable (erronea)."
   ]
  },
  {
   "cell_type": "code",
   "execution_count": 32,
   "metadata": {},
   "outputs": [
    {
     "name": "stdout",
     "output_type": "stream",
     "text": [
      "('R', 'O', 'M', 'A')\n"
     ]
    }
   ],
   "source": [
    "print(mi_tupla)     #Compruebo no haber perdido los elementos que obtuve de \"mi_lista\" eliminada."
   ]
  }
 ],
 "metadata": {
  "kernelspec": {
   "display_name": "Python 3",
   "language": "python",
   "name": "python3"
  },
  "language_info": {
   "codemirror_mode": {
    "name": "ipython",
    "version": 3
   },
   "file_extension": ".py",
   "mimetype": "text/x-python",
   "name": "python",
   "nbconvert_exporter": "python",
   "pygments_lexer": "ipython3",
   "version": "3.11.4"
  },
  "orig_nbformat": 4
 },
 "nbformat": 4,
 "nbformat_minor": 2
}
